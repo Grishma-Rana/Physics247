{
 "cells": [
  {
   "cell_type": "markdown",
   "id": "c54e893f-013d-4030-a01f-3e86d9d5dd07",
   "metadata": {},
   "source": [
    "                                                      Assignment 1: Linear Algebra"
   ]
  },
  {
   "cell_type": "markdown",
   "id": "55a0cc1b-c15a-45df-85a4-d98050019bab",
   "metadata": {},
   "source": [
    "1. Printing Pauli Matrices using Python. "
   ]
  },
  {
   "cell_type": "markdown",
   "id": "d85bea14-8655-4b6d-87a9-1d8a7740a2ea",
   "metadata": {},
   "source": [
    "Pauli matrices are defined as: "
   ]
  },
  {
   "cell_type": "markdown",
   "id": "0d1cdf20-bf8b-447e-a12f-f0484b96e73b",
   "metadata": {},
   "source": [
    "$$\n",
    "\\text{X} = \n",
    "\\begin{pmatrix}\n",
    "0 & 1 \\\\\n",
    "1 & 0\n",
    "\\end{pmatrix},\n",
    "\\quad\n",
    "\\text{Y} = \n",
    "\\begin{pmatrix}\n",
    "0 & -i \\\\\n",
    "i & 0\n",
    "\\end{pmatrix},\n",
    "\\quad\n",
    "\\text{Z} = \n",
    "\\begin{pmatrix}\n",
    "1 & 0 \\\\\n",
    "0 & -1\n",
    "\\end{pmatrix}.\n",
    "$$"
   ]
  },
  {
   "cell_type": "markdown",
   "id": "9bca31f9-a2e8-4338-ba3f-f15a5dc76501",
   "metadata": {},
   "source": [
    "Here is it printed in python:"
   ]
  },
  {
   "cell_type": "code",
   "execution_count": 33,
   "id": "52dd84d5-3048-4171-b840-2fd37c2240f3",
   "metadata": {},
   "outputs": [
    {
     "name": "stdout",
     "output_type": "stream",
     "text": [
      "X: [[0 1]\n",
      " [1 0]]\n",
      "\n",
      "Y: [[ 0.+0.j -0.-1.j]\n",
      " [ 0.+1.j  0.+0.j]]\n",
      "\n",
      "Z: [[ 1  0]\n",
      " [ 0 -1]]\n"
     ]
    }
   ],
   "source": [
    "import numpy as np\n",
    "# Define Pauli Matrices.\n",
    "pauli_X = np.array([[0, 1],\n",
    "                    [1, 0]])\n",
    "pauli_Y = np.array([[0, -1j],\n",
    "                    [1j, 0]])\n",
    "pauli_Z = np.array([[1, 0],\n",
    "                    [0, -1]])\n",
    "# Print.\n",
    "print(\"X:\", pauli_X) \n",
    "print(\"\\nY:\", pauli_Y) \n",
    "print(\"\\nZ:\", pauli_Z)"
   ]
  },
  {
   "cell_type": "markdown",
   "id": "2518f8c0-39f1-4686-9c0e-4249510bd025",
   "metadata": {},
   "source": [
    "2. Solve Exercise 1.4 numerically and make sure your result is consistent with your analytical result: Using the following “np.conjugate” and “np.dot” functions, compute\n",
    "the norm of"
   ]
  },
  {
   "cell_type": "markdown",
   "id": "aef4800d-82ac-4086-86b6-f663cd6739d8",
   "metadata": {},
   "source": [
    "$$\n",
    "\\text{c} = \n",
    "\\begin{pmatrix}\n",
    "1 + i \\\\\n",
    "3 - 2i\n",
    "\\end{pmatrix}\n",
    "$$"
   ]
  },
  {
   "cell_type": "markdown",
   "id": "f446a2b5-949e-42f1-9511-0abd663dab15",
   "metadata": {},
   "source": [
    "Resulting code:"
   ]
  },
  {
   "cell_type": "code",
   "execution_count": 34,
   "id": "50f67912-3dff-40ce-949e-6e82d20d3135",
   "metadata": {},
   "outputs": [
    {
     "name": "stdout",
     "output_type": "stream",
     "text": [
      "The norm of c is (3.872983346207417+0j)\n"
     ]
    }
   ],
   "source": [
    "import numpy as np\n",
    "# Define complex vector c.\n",
    "c = np.array([1 + 1j, 3 - 2j])\n",
    "# Compute the norm.\n",
    "conjugate = np.conjugate(c)\n",
    "c_dot = np.dot(conjugate, c)\n",
    "norm = np.sqrt(c_dot)\n",
    "# Print norm.\n",
    "print(\"The norm of c is\", norm)"
   ]
  },
  {
   "cell_type": "markdown",
   "id": "a1b66b39-440b-4eeb-bc7e-7f8234e881a6",
   "metadata": {},
   "source": [
    "3. Solve Exercise 1.10 (3) numerically and make sure your numerical results are con- sistent with analytical results. Obtain the eigenvalues and eigenvector of the following\n",
    "matrix:"
   ]
  },
  {
   "cell_type": "markdown",
   "id": "88f38911-605c-46a4-bf42-0e3be14880f4",
   "metadata": {},
   "source": [
    "$$\n",
    "\\text{H} = \n",
    "\\begin{pmatrix}\n",
    "2 & 1 - i \\\\\n",
    "1 + i & 3\n",
    "\\end{pmatrix}\n",
    "$$"
   ]
  },
  {
   "cell_type": "markdown",
   "id": "909fc7e9-20cc-40a1-a1a0-b5fc465b2911",
   "metadata": {},
   "source": [
    "Resulting code:"
   ]
  },
  {
   "cell_type": "code",
   "execution_count": 36,
   "id": "d6ed46ca-bfe3-4e69-abb6-1d7ac6d62bed",
   "metadata": {},
   "outputs": [
    {
     "name": "stdout",
     "output_type": "stream",
     "text": [
      "The Eigenvalues are:\n",
      " [1.-2.52702567e-16j 4.-1.91386643e-16j]\n",
      "\n",
      "The Eigenvectors are:\n",
      " [[ 0.81649658+0.j          0.40824829-0.40824829j]\n",
      " [-0.40824829-0.40824829j  0.81649658+0.j        ]]\n"
     ]
    }
   ],
   "source": [
    "import numpy as np\n",
    "# Define matrix H.\n",
    "H = np.array([[2, 1 - 1j],\n",
    "             [1 + 1j, 3]])\n",
    "# Compute eigenvalues and eigenvectors.\n",
    "eigenvalues, eigenvectors = np.linalg.eig(H)\n",
    "# Print.\n",
    "print(\"The Eigenvalues are:\\n\", eigenvalues) \n",
    "print(\"\\nThe Eigenvectors are:\\n\", eigenvectors)"
   ]
  }
 ],
 "metadata": {
  "kernelspec": {
   "display_name": "Python 3 (ipykernel)",
   "language": "python",
   "name": "python3"
  },
  "language_info": {
   "codemirror_mode": {
    "name": "ipython",
    "version": 3
   },
   "file_extension": ".py",
   "mimetype": "text/x-python",
   "name": "python",
   "nbconvert_exporter": "python",
   "pygments_lexer": "ipython3",
   "version": "3.9.6"
  }
 },
 "nbformat": 4,
 "nbformat_minor": 5
}
